{
 "cells": [
  {
   "cell_type": "code",
   "execution_count": 1,
   "metadata": {},
   "outputs": [],
   "source": [
    "# DL.WiSe18_a1\n",
    "# Assignment 01 - Linear Algebra\n",
    "# Kakkar, Anupam - ak778\n",
    "# Ramachandra, Poojitha - pr187\n",
    "# Sen, Debayan - ds495"
   ]
  },
  {
   "cell_type": "code",
   "execution_count": 2,
   "metadata": {},
   "outputs": [],
   "source": [
    "# imports\n",
    "%matplotlib inline\n",
    "import numpy as np\n",
    "import matplotlib.pyplot as plt"
   ]
  },
  {
   "cell_type": "markdown",
   "metadata": {},
   "source": [
    "### Question 2 - Eigenvalue Decomposition\n",
    "\n",
    "Given the matrix\n",
    "$ A =\n",
    "\\begin{bmatrix}\n",
    "7/4 & -\\sqrt{3}/4 \\\\\n",
    "-\\sqrt{3}/4 & 5/4 \\\\\n",
    "\\end{bmatrix}\n",
    "$"
   ]
  },
  {
   "cell_type": "markdown",
   "metadata": {},
   "source": [
    "#### (a) Compute Eigenvalue Decomposition\n",
    "\n",
    "##### Step 1 : Solve for Eigenvalues\n",
    "\n",
    "Set $|A-\\lambda I| = 0$, and solve for the determinant of the following:\n",
    "$\\begin{vmatrix}\n",
    "7/4-\\lambda & -\\sqrt{3}/4\\\\\n",
    "-\\sqrt{3}/4 & 5/4 -\\lambda \\\\\n",
    "\\end{vmatrix} = 0$\n",
    "\n",
    "This gives the result $\\lambda_1=1, \\lambda_2=2$\n",
    "\n",
    "##### Step 2 : Solve for Eigenvectors\n",
    "Solve $(A - \\lambda I)x = 0, \\\\$ where x is the corresponding eigenvector of unit length - $||x||=1$\n",
    "\n",
    "$\\begin{bmatrix}\n",
    "7/4-\\lambda & -\\sqrt{3}/4\\\\\n",
    "-\\sqrt{3}/4 & 5/4 -\\lambda \\\\\n",
    "\\end{bmatrix} \n",
    "\\begin{bmatrix} x1 \\\\ x2 \\\\ \\end{bmatrix}$ = $\\begin{bmatrix} 0 \\\\ 0 \\\\ \\end{bmatrix}$\n",
    "\n",
    "For $\\lambda_1=1$ we get the normalized eigenvector $x_{1}$ = $\\begin{bmatrix} \\frac{1}{2} \\\\ \\frac{\\sqrt{3}}{2} \\\\ \\end{bmatrix}$\n",
    "\n",
    "Similarly, for $\\lambda_2=2$ we get the normalized eigenvector $x_{2}$ = $\\begin{bmatrix} \\frac{\\sqrt{3}}{2} \\\\ \\frac{-1}{2} \\\\ \\end{bmatrix}$\n",
    "\n",
    "Therefore, \n",
    "$Q = \\begin{bmatrix}\n",
    "\\frac{1}{2} & \\frac{\\sqrt{3}}{2} \\\\\n",
    "\\frac{\\sqrt{3}}{2} & -\\frac{1}{2} \\\\\n",
    "\\end{bmatrix}$\n",
    ", and \n",
    "$\\Lambda = \\begin{bmatrix}\n",
    "1 & 0 \\\\\n",
    "0 & 2 \\\\\n",
    "\\end{bmatrix}$"
   ]
  },
  {
   "cell_type": "markdown",
   "metadata": {},
   "source": [
    "#### (b) Orthonormality of Q\n",
    "\n",
    "Q should be orthogonal, and the length of the columns of Q should be 1.\n",
    "##### Step 1 : Check if $Q^{-1} = Q^{T}$\n",
    " Now, $Q^{-1}$ = $ \\begin{bmatrix}\n",
    "\\frac{1}{2} & \\frac{\\sqrt{3}}{2} \\\\\n",
    "\\frac{\\sqrt{3}}{2} & -\\frac{1}{2} \\\\\n",
    "\\end{bmatrix} $, which is equal to $Q^{T}$.\n",
    "##### Step 2 : Check if length of columns of $Q$ = 1\n",
    "To do this, we can just check if $QQ^{T} = I$"
   ]
  },
  {
   "cell_type": "code",
   "execution_count": 3,
   "metadata": {},
   "outputs": [
    {
     "name": "stdout",
     "output_type": "stream",
     "text": [
      "Step 1\n",
      "[[ 0.5        0.8660254]\n",
      " [ 0.8660254 -0.5      ]]\n",
      "[[ 0.5        0.8660254]\n",
      " [ 0.8660254 -0.5      ]]\n",
      "[[ 0.5        0.8660254]\n",
      " [ 0.8660254 -0.5      ]]\n",
      "Step 2\n",
      "[[1. 0.]\n",
      " [0. 1.]]\n"
     ]
    }
   ],
   "source": [
    "# Q2b\n",
    "# Step 1\n",
    "print(\"Step 1\")\n",
    "Q = np.array([[0.5, np.sqrt(3)/2], [np.sqrt(3)/2, -0.5]])\n",
    "print(Q)\n",
    "print(np.linalg.inv(Q))\n",
    "print(Q.T)\n",
    "\n",
    "# Step 2\n",
    "print(\"Step 2\")\n",
    "print(np.dot(Q, Q.T))"
   ]
  },
  {
   "cell_type": "markdown",
   "metadata": {},
   "source": [
    "#### (c) $Q$ and $A^{-1}$\n",
    "Compute the dot product of $A = Q\\Lambda Q^{T}$ and $B = Q\\Lambda^{-1}Q^{T}$"
   ]
  },
  {
   "cell_type": "code",
   "execution_count": 4,
   "metadata": {},
   "outputs": [
    {
     "name": "stdout",
     "output_type": "stream",
     "text": [
      "[[1. 0.]\n",
      " [0. 1.]]\n"
     ]
    }
   ],
   "source": [
    "Lambda = np.array([[1, 0], [0, 2]])\n",
    "A = np.dot(Q, Lambda).dot(Q.T)\n",
    "B = np.dot(Q, np.linalg.inv(Lambda)).dot(Q.T)\n",
    "print(A.dot(B))"
   ]
  },
  {
   "cell_type": "markdown",
   "metadata": {},
   "source": [
    "### Question 3 - Matrix Inversion\n",
    "\n",
    "Given the matrix\n",
    "$ A =\n",
    "\\begin{bmatrix}\n",
    "3 & 4 \\\\\n",
    "6 & 13 \\\\\n",
    "\\end{bmatrix}\n",
    "$"
   ]
  },
  {
   "cell_type": "markdown",
   "metadata": {},
   "source": [
    "#### (a) LU Decomposition and Equation Solving\n",
    "\n",
    "##### Step 1 : Solve for L and U Matrices\n",
    "\n",
    "Decompose A into the L and U traingle matrices:\n",
    "$\n",
    "L = \\begin{bmatrix}\n",
    "1 & 0 \\\\\n",
    "2 & 1 \\\\\n",
    "\\end{bmatrix},\n",
    "U = \\begin{bmatrix}\n",
    "3 & 4 \\\\\n",
    "0 & 5 \\\\\n",
    "\\end{bmatrix}\n",
    "$"
   ]
  },
  {
   "cell_type": "code",
   "execution_count": 5,
   "metadata": {},
   "outputs": [
    {
     "name": "stdout",
     "output_type": "stream",
     "text": [
      "L.U\n",
      "[[ 3  4]\n",
      " [ 6 13]]\n"
     ]
    }
   ],
   "source": [
    "# Q3a\n",
    "# Step 1\n",
    "l = np.array([[1, 0], [2, 1]])\n",
    "u = np.array([[3, 4], [0, 5]])\n",
    "print(\"L.U\")\n",
    "print(np.dot(l, u))"
   ]
  },
  {
   "cell_type": "markdown",
   "metadata": {},
   "source": [
    "##### Step 2 : Solve for x using the L and U Matrices\n",
    "Solving the equation $Ax = b$ for $b = \\begin{bmatrix} 1 \\\\ 2 \\\\ \\end{bmatrix}$\n",
    "\n",
    "$A = LU$, $LUx = b$\n",
    "\n",
    "Let $Ux = y$, then $Ly = b$\n",
    "\n",
    "Solving $Ly = b$ yields $y = \\begin{bmatrix} 1 \\\\ 0 \\\\ \\end{bmatrix}$\n",
    "\n",
    "And using $y$ in solving $Ux = y$ gives $x = \\begin{bmatrix} \\frac{1}{3} \\\\ 0 \\\\ \\end{bmatrix}$"
   ]
  },
  {
   "cell_type": "code",
   "execution_count": 6,
   "metadata": {
    "scrolled": true
   },
   "outputs": [
    {
     "name": "stdout",
     "output_type": "stream",
     "text": [
      "L.U.x\n",
      "[1. 2.]\n"
     ]
    }
   ],
   "source": [
    "# Q3a\n",
    "# Step 2\n",
    "l = np.array([[1, 0], [2, 1]])\n",
    "u = np.array([[3, 4], [0, 5]])\n",
    "x = np.array([1/3, 0])\n",
    "print(\"L.U.x\")\n",
    "print(np.dot(l, u).dot(x))"
   ]
  },
  {
   "cell_type": "markdown",
   "metadata": {},
   "source": [
    "#### (b) Inverse using Gaussian Elimination / Explicit Matrix Inversion\n",
    "\n",
    "##### Step 1 : Solve for $A^{-1}$\n",
    "Using Gaussian Elimination, the inverse of $A$ comes out to be $A^{-1} = \\frac{A^{*}}{|A|} $, where\n",
    "\n",
    "$A^{*} = \\begin{bmatrix}\n",
    "13 & -4 \\\\\n",
    "-6 & 3 \\\\\n",
    "\\end{bmatrix}\\\\\n",
    "|A| = \\begin{vmatrix}\n",
    "3 & 4 \\\\\n",
    "6 & 13 \\\\\n",
    "\\end{vmatrix}\n",
    "=\\begin{vmatrix}\n",
    "3 & 4 \\\\\n",
    "0 & 5 \\\\\n",
    "\\end{vmatrix} = 15\\\\\n",
    "$\n",
    "\n",
    "Hence, $A^{-1} = \\frac{1}{15} \\begin{bmatrix} 13 & -4 \\\\ -6 & 3 \\\\ \\end{bmatrix}$\n",
    "\n",
    "##### Step 2 : Verify $A^{-1}$\n",
    "Now, using this inverse to verify the equation's solution:\n",
    "\n",
    "$x = A^{-1}b = \\frac{1}{15} \\begin{bmatrix} 13 & -4 \\\\ -6 & 3 \\\\ \\end{bmatrix} \n",
    "\\begin{bmatrix} 1 \\\\ 2 \\end{bmatrix} = \n",
    "\\begin{bmatrix} \\frac{1}{3} \\\\ 0 \\end{bmatrix}$"
   ]
  },
  {
   "cell_type": "code",
   "execution_count": 7,
   "metadata": {},
   "outputs": [
    {
     "name": "stdout",
     "output_type": "stream",
     "text": [
      "A_in.b\n",
      "[0.33333333 0.        ]\n"
     ]
    }
   ],
   "source": [
    "# Q3b\n",
    "A_in = 1/15 * np.array([[13, -4], [-6, 3]])\n",
    "b = np.array([1, 2])\n",
    "print(\"A_in.b\")\n",
    "print(np.dot(A_in, b))"
   ]
  },
  {
   "cell_type": "markdown",
   "metadata": {},
   "source": [
    "### Question 4 - Vector Norms\n",
    "\n",
    "#### (a) Compute Norms\n",
    "To calculate the p-th norm of a vector, the following equation can be used:\n",
    "$ ||X||_{p} = (\\sum_{i}|x_i|^{p})^{1/p} $\n",
    "\n",
    "For cases where p goes to infinity, the norm is called max norm and is computed as below:\n",
    "$ ||X||_{\\infty} = \\max_i{|x_i|} $"
   ]
  },
  {
   "cell_type": "code",
   "execution_count": 8,
   "metadata": {},
   "outputs": [
    {
     "name": "stdout",
     "output_type": "stream",
     "text": [
      "Vector X : Norms 1, 2, 8, MAX\n",
      "[60.0, 39.370039370059054, 31.473960061786176, 31]\n",
      "[94.0, 47.391982444291145, 29.376852355339327, 27]\n",
      "[83.0, 45.77116996538323, 31.528321194911335, 30]\n",
      "[93.0, 47.75981574503821, 30.458236965849625, 28]\n"
     ]
    }
   ],
   "source": [
    "# Q4a\n",
    "x1 = np.array([24, 3, 2, 31]).T\n",
    "x2 = np.array([27, 20, 26, 21]).T\n",
    "x3 = np.array([30, 21, 27, 5]).T\n",
    "x4 = np.array([26, 28, 25, 14]).T\n",
    "x1norm = []\n",
    "x2norm = []\n",
    "x3norm = []\n",
    "x4norm = []\n",
    "\n",
    "order = [1, 2, 8]\n",
    "for o in order:\n",
    "    x1norm.append(np.linalg.norm(x1, o))\n",
    "    x2norm.append(np.linalg.norm(x2, o))\n",
    "    x3norm.append(np.linalg.norm(x3, o))\n",
    "    x4norm.append(np.linalg.norm(x4, o))\n",
    "x1norm.append(np.max(np.abs(x1)))\n",
    "x2norm.append(np.max(np.abs(x2)))\n",
    "x3norm.append(np.max(np.abs(x3)))\n",
    "x4norm.append(np.max(np.abs(x4)))\n",
    "\n",
    "print(\"Vector X : Norms 1, 2, 8, MAX\")\n",
    "print(x1norm)\n",
    "print(x2norm)\n",
    "print(x3norm)\n",
    "print(x4norm)"
   ]
  },
  {
   "cell_type": "markdown",
   "metadata": {},
   "source": [
    "#### (b) Unit \"Circles\" of different norms\n",
    "\n",
    "The below code generates the unit circle (the set of all vectors of norm 1) for norms: 1, 2, 8 and MAX"
   ]
  },
  {
   "cell_type": "code",
   "execution_count": 11,
   "metadata": {},
   "outputs": [
    {
     "data": {
      "image/png": "[encoded data removed]",
      "text/plain": [
       "<matplotlib.figure.Figure at 0x1cd60550278>"
      ]
     },
     "metadata": {
      "needs_background": "light"
     },
     "output_type": "display_data"
    }
   ],
   "source": [
    "# Q4b\n",
    "x_line = np.linspace(-1, 1, 1000)\n",
    "y_line = np.linspace(-1, 1, 1000)\n",
    "xv, yv = np.meshgrid(x_line, y_line, sparse=False, indexing='ij')\n",
    "norms = []\n",
    "p = [1, 2, 8, np.inf]\n",
    "for n in range(len(p)):\n",
    "    vec = []\n",
    "    for i in range(xv.shape[0]):\n",
    "        for j in range(yv.shape[0]):\n",
    "            norm = np.linalg.norm([x_line[i], y_line[j]], ord=p[n])\n",
    "            if norm > 0.99 and norm < 1.01:\n",
    "                vec.append([x_line[i], y_line[j]])\n",
    "    norms.append(np.array(vec))\n",
    "\n",
    "fig, ax = plt.subplots(nrows=2, ncols=2, figsize=(12, 12))\n",
    "lab = [\"NORM 1\", \"NORM 2\", \"NORM 8\", \"NORM INF\"]\n",
    "\n",
    "i = 0\n",
    "for row in ax:\n",
    "    for col in row:\n",
    "        col.scatter(norms[i][:, 0], norms[i][:, 1], s=0.05)\n",
    "        col.grid(True)\n",
    "        col.set_title(lab[i])\n",
    "        i += 1"
   ]
  },
  {
   "cell_type": "markdown",
   "metadata": {},
   "source": [
    "### Question 5 - Special Orthogonal Matrices\n",
    "\n",
    "#### (a) Compute det(A), Tr(A) and eigenvalues\n",
    "Given the matrix\n",
    "$ A = \\frac{1}{2}\n",
    "\\begin{bmatrix}\n",
    "7 & \\sqrt{3} \\\\\n",
    "\\sqrt{3} & 5 \\\\\n",
    "\\end{bmatrix}\n",
    "$"
   ]
  },
  {
   "cell_type": "code",
   "execution_count": 9,
   "metadata": {},
   "outputs": [
    {
     "name": "stdout",
     "output_type": "stream",
     "text": [
      "A\n",
      "[[3.5       0.8660254]\n",
      " [0.8660254 2.5      ]]\n",
      "det(A)\n",
      "8.000000000000002\n",
      "Tr(A)\n",
      "6.0\n",
      "eigvals(A)\n",
      "[4. 2.]\n"
     ]
    }
   ],
   "source": [
    "# Q5a\n",
    "A = 0.5 * np.array([[7, np.sqrt(3)], [np.sqrt(3), 5]])\n",
    "print(\"A\")\n",
    "print(A)\n",
    "print(\"det(A)\")\n",
    "print(np.linalg.det(A))\n",
    "print(\"Tr(A)\")\n",
    "print(np.trace(A))\n",
    "print(\"eigvals(A)\")\n",
    "eig_val, eig_vec = np.linalg.eig(A)\n",
    "print(eig_val)"
   ]
  },
  {
   "cell_type": "markdown",
   "metadata": {},
   "source": [
    "#### (b) Rotation Matrix\n",
    "Given the matrix\n",
    "$ Q(\\alpha) =\n",
    "\\begin{bmatrix}\n",
    "cos \\alpha & -sin \\alpha \\\\\n",
    "sin \\alpha & cos \\alpha \\\\\n",
    "\\end{bmatrix}\n",
    "$\n",
    "\n",
    "For $\\alpha = \\frac{\\pi}{12}$ compute $A^{'} = Q.A.Q^{T}$, $det(A)$, $Tr(A)$ and its eigenvalues."
   ]
  },
  {
   "cell_type": "code",
   "execution_count": 10,
   "metadata": {},
   "outputs": [
    {
     "name": "stdout",
     "output_type": "stream",
     "text": [
      "A\n",
      "[[3.5       0.8660254]\n",
      " [0.8660254 2.5      ]]\n",
      "Q\n",
      "[[ 0.96592583 -0.25881905]\n",
      " [ 0.25881905  0.96592583]]\n",
      "A'\n",
      "[[3. 1.]\n",
      " [1. 3.]]\n",
      "det(A')\n",
      "8.000000000000002\n",
      "Tr(A')\n",
      "6.0\n",
      "eigvals(A')\n",
      "[2. 4.]\n"
     ]
    }
   ],
   "source": [
    "# Q5b\n",
    "alpha = np.pi/12\n",
    "Q = np.array([[np.cos(alpha), -np.sin(alpha)], [np.sin(alpha), np.cos(alpha)]])\n",
    "print(\"A\")\n",
    "print(A)\n",
    "print(\"Q\")\n",
    "print(Q)\n",
    "A_prime = np.dot(Q, A).dot(Q.T)\n",
    "print(\"A\\'\")\n",
    "print(A_prime)\n",
    "print(\"det(A\\')\")\n",
    "print(np.linalg.det(A_prime))\n",
    "print(\"Tr(A\\')\")\n",
    "print(np.trace(A_prime))\n",
    "print(\"eigvals(A\\')\")\n",
    "eig_val, eig_vec = np.linalg.eig(A_prime)\n",
    "print(eig_val)"
   ]
  },
  {
   "cell_type": "markdown",
   "metadata": {},
   "source": [
    "So as a result of applying the rotation matrix $Q$ on $A$, the value of $det(A)$, $Tr(A)$ and eigenvalues is preserved."
   ]
  },
  {
   "cell_type": "markdown",
   "metadata": {},
   "source": [
    "#### (c) Rotation Matrix\n",
    "Given the matrix\n",
    "$ Q(\\alpha) =\n",
    "\\begin{bmatrix}\n",
    "cos \\alpha & -sin \\alpha \\\\\n",
    "sin \\alpha & cos \\alpha \\\\\n",
    "\\end{bmatrix}\n",
    "$\n",
    "\n",
    "For $\\alpha = \\frac{\\pi}{3}$ compute $A^{'} = Q.A.Q^{T}$."
   ]
  },
  {
   "cell_type": "code",
   "execution_count": 12,
   "metadata": {},
   "outputs": [
    {
     "name": "stdout",
     "output_type": "stream",
     "text": [
      "A\n",
      "[[3.5       0.8660254]\n",
      " [0.8660254 2.5      ]]\n",
      "Q\n",
      "[[ 0.5       -0.8660254]\n",
      " [ 0.8660254  0.5      ]]\n",
      "A'\n",
      "[[2.00000000e+00 2.22044605e-16]\n",
      " [4.44089210e-16 4.00000000e+00]]\n",
      "det(A')\n",
      "7.999999999999998\n",
      "Tr(A')\n",
      "6.0\n",
      "eigvals(A')\n",
      "[2. 4.]\n"
     ]
    }
   ],
   "source": [
    "# Q5c\n",
    "alpha = np.pi/3\n",
    "Q = np.array([[np.cos(alpha), -np.sin(alpha)], [np.sin(alpha), np.cos(alpha)]])\n",
    "print(\"A\")\n",
    "print(A)\n",
    "print(\"Q\")\n",
    "print(Q)\n",
    "A_prime = np.dot(Q, A).dot(Q.T)\n",
    "print(\"A\\'\")\n",
    "print(A_prime)\n",
    "print(\"det(A\\')\")\n",
    "print(np.linalg.det(A_prime))\n",
    "print(\"Tr(A\\')\")\n",
    "print(np.trace(A_prime))\n",
    "print(\"eigvals(A\\')\")\n",
    "eig_val, eig_vec = np.linalg.eig(A_prime)\n",
    "print(eig_val)"
   ]
  },
  {
   "cell_type": "markdown",
   "metadata": {},
   "source": [
    "So the matrices of $SO(n)$ group preserve the value of $det(A)$, $Tr(A)$ and eigenvalues of the matrix they are applied to."
   ]
  },
  {
   "cell_type": "markdown",
   "metadata": {},
   "source": [
    "### Feedback\n",
    "\n",
    "$Q2$ - was a quick revision of the pen and paper method of eigenvalue decomposition.\n",
    "\n",
    "$Q3$ - was a quick revision of the pen and paper method of LU decomposition, and the matrix inverse.\n",
    "\n",
    "$Q4$ - was a quick revision of the vector norms concept. Although $4b$ was a great way to visualize the norms, I learnt something new here.\n",
    "\n",
    "$Q5$ - learnt how the $SO(n)$ matrices preserve the values.\n",
    "\n",
    "This whole assignment served as a recap of many important Linear Algebra concepts. It was not very difficult, and I really liked $Q4b$. Time spent was a little high considering I had to learn the markdown language to write this notebook, but hey, good takeaway."
   ]
  }
 ],
 "metadata": {
  "kernelspec": {
   "display_name": "Python 3",
   "language": "python",
   "name": "python3"
  },
  "language_info": {
   "codemirror_mode": {
    "name": "ipython",
    "version": 3
   },
   "file_extension": ".py",
   "mimetype": "text/x-python",
   "name": "python",
   "nbconvert_exporter": "python",
   "pygments_lexer": "ipython3",
   "version": "3.7.0"
  }
 },
 "nbformat": 4,
 "nbformat_minor": 2
}
