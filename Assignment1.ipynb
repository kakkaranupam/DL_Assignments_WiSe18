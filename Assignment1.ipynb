{
 "cells": [
  {
   "cell_type": "code",
   "execution_count": 2,
   "metadata": {},
   "outputs": [],
   "source": [
    "import numpy as np\n",
    "from scipy.linalg import lu"
   ]
  },
  {
   "cell_type": "markdown",
   "metadata": {},
   "source": [
    "## Question 2"
   ]
  },
  {
   "cell_type": "markdown",
   "metadata": {},
   "source": [
    "#### (a)\n",
    "\n",
    "We set $|A-\\lambda| = 0$\n",
    "$$\n",
    "\\begin{vmatrix}\n",
    "7/4-\\lambda & \\sqrt{3}/4\\\\\n",
    "\\sqrt{3}/4 & 5/4 -\\lambda \\\\\n",
    "\\end{vmatrix} = 0\n",
    "$$\n",
    "\n",
    "So that we will be able to get result $\\lambda_1=2, \\lambda_2=1$\n",
    "To calculate the eigen vectors, we should use this equation, where u is the corresponding eigen vector(unit length):\n",
    "$$Au = \\lambda u, \\\\\n",
    "||u||=1$$\n",
    "For $\\lambda_1=1$ we get:\n",
    "\n",
    "$$\n",
    "Q =\\begin{bmatrix}\n",
    "\\frac{\\sqrt{3}}{2} & \\frac{1}{2} \\\\\n",
    "-\\frac{1}{2} & \\frac{\\sqrt{3}}{2} \\\\\n",
    "\\end{bmatrix}, \n",
    "\\Lambda=\\begin{bmatrix}\n",
    "2 & 0\\\\\n",
    "0 & 1\\\\\n",
    "\\end{bmatrix}\n",
    "$$"
   ]
  },
  {
   "cell_type": "markdown",
   "metadata": {},
   "source": [
    "#### (b)\n",
    "Because when we calculate the eigenvectors, we already restrict the norm of the eigenvectors is 1, so each eigenvector is unit length. To prove they are orthogonal, we calculate the dot product of $u_1, u_2$\n",
    "$$ QQ^T = I$$\n",
    "So that Q is orthonormal matrix."
   ]
  },
  {
   "cell_type": "markdown",
   "metadata": {},
   "source": [
    "#### (c)\n",
    "we define $B = Q\\Lambda^{-1}Q^{T}$, and we calculate: $$product(A, B)$$\n",
    "which is equivalent to calculate:\n",
    "$$ AB = Q\\Lambda Q^{T}Q\\Lambda^{-1}Q^{T}  \\tag{1} $$\n",
    "Because Q is orthonormal matrix then: $QQ^T = I$\n",
    "So we now can simplify $(1)$ as:\n",
    "$AB = I$\n",
    "Which shows $B = A^{-1}$"
   ]
  },
  {
   "cell_type": "markdown",
   "metadata": {},
   "source": [
    "## Question 3"
   ]
  },
  {
   "cell_type": "markdown",
   "metadata": {},
   "source": [
    "#### (a)\n",
    "\n",
    "Firstly, calculate the LU decomposition of A:\n",
    "$$\n",
    "L = \\begin{bmatrix}\n",
    "1 & 0 \\\\\n",
    "0.5 & 1 \\\\\n",
    "\\end{bmatrix},\n",
    "U = \\begin{bmatrix}\n",
    "6 & 13 \\\\\n",
    "0 & -2.5 \\\\\n",
    "\\end{bmatrix}\n",
    "$$\n",
    "\n",
    "Then we solve these two equations by forward and backward substitution:\n",
    "$$\n",
    "Ly = Pb \\\\\n",
    "Ux = y \n",
    "$$\n",
    "we get:\n",
    "$$\n",
    "y_1 = 2, y_2 = 0 \\\\\n",
    "x_1 = \\frac{1}{3}, x_2 = 0\n",
    "$$"
   ]
  },
  {
   "cell_type": "code",
   "execution_count": 3,
   "metadata": {},
   "outputs": [],
   "source": [
    "A = np.array([[3,4],[6,13]])\n",
    "b = np.array([[1],[2]])\n",
    "P, L, U = lu(A)"
   ]
  },
  {
   "cell_type": "code",
   "execution_count": 18,
   "metadata": {},
   "outputs": [
    {
     "name": "stdout",
     "output_type": "stream",
     "text": [
      "[[2.]\n",
      " [0.]]\n",
      "[[ 0.33333333]\n",
      " [-0.        ]]\n"
     ]
    }
   ],
   "source": [
    "y = np.linalg.inv(L)@ P @ b\n",
    "print(y)\n",
    "x = np.linalg.inv(U) @ y\n",
    "print(x)"
   ]
  },
  {
   "cell_type": "markdown",
   "metadata": {},
   "source": [
    "#### (b)\n",
    "To calculate the inverse of a matrix explicitly:\n",
    "$$\n",
    "A^{-1} = \\frac{A^{*}}{|A|}\n",
    "$$\n",
    "and we use Gaussian elimination to calculate the determinant of A. We can get:\n",
    "$$\n",
    "A^{*} = \\begin{bmatrix}\n",
    "13 & -4 \\\\\n",
    "-6 & 3 \\\\\n",
    "\\end{bmatrix}\\\\\n",
    "|A| = \\begin{vmatrix}\n",
    "3 & 4 \\\\\n",
    "6 & 13 \\\\\n",
    "\\end{vmatrix}\n",
    "=\\begin{vmatrix}\n",
    "3 & 4 \\\\\n",
    "0 & 5 \\\\\n",
    "\\end{vmatrix} = 15\\\\\n",
    "x = A^{-1}b = \\begin{bmatrix} \\frac{1}{3} \\\\ 0 \\end{bmatrix}\n",
    "$$\n",
    "which is same as what we get at (a)"
   ]
  },
  {
   "cell_type": "markdown",
   "metadata": {},
   "source": [
    "## Question 4\n",
    "\n",
    "#### (a)\n",
    "To calculate the p-order norm of a vect $X$:\n",
    "$$ ||X||_{p} = (\\sum_{i}|x_i|^{p})^{1/p} $$\n",
    "Specially when p goes to infinity:\n",
    "$$ ||X||_{\\infty} = \\max_i{|x_i|} $$"
   ]
  },
  {
   "cell_type": "code",
   "execution_count": 19,
   "metadata": {
    "collapsed": true
   },
   "outputs": [],
   "source": [
    "x1 = np.array([24, 3, 2, 31]).T\n",
    "x2 = np.array([27, 20, 26, 21]).T\n",
    "x3 = np.array([30, 21, 27, 5]).T\n",
    "x4 = np.array([26, 28, 25, 14]).T\n",
    "x1_norm = []\n",
    "x2_norm = []\n",
    "x3_norm = []\n",
    "x4_norm = []"
   ]
  },
  {
   "cell_type": "code",
   "execution_count": 20,
   "metadata": {
    "collapsed": true
   },
   "outputs": [],
   "source": [
    "order = [1, 2, 8]\n",
    "for o in order:\n",
    "    x1_norm.append(np.linalg.norm(x1, o))\n",
    "    x2_norm.append(np.linalg.norm(x2, o))\n",
    "    x3_norm.append(np.linalg.norm(x3, o))\n",
    "    x4_norm.append(np.linalg.norm(x4, o))\n",
    "\n",
    "x1_norm.append(np.max(np.abs(x1)))\n",
    "x2_norm.append(np.max(np.abs(x2)))\n",
    "x3_norm.append(np.max(np.abs(x3)))\n",
    "x4_norm.append(np.max(np.abs(x4)))"
   ]
  },
  {
   "cell_type": "code",
   "execution_count": 21,
   "metadata": {},
   "outputs": [
    {
     "name": "stdout",
     "output_type": "stream",
     "text": [
      "The norms are as following\n",
      "[60.0, 39.370039370059054, 31.473960061786176, 31]\n",
      "[94.0, 47.391982444291145, 29.376852355339327, 27]\n",
      "[83.0, 45.77116996538323, 31.528321194911335, 30]\n",
      "[93.0, 47.75981574503821, 30.458236965849625, 28]\n"
     ]
    }
   ],
   "source": [
    "print(\"The norms are as following\")\n",
    "print(x1_norm)\n",
    "print(x2_norm)\n",
    "print(x3_norm)\n",
    "print(x4_norm)"
   ]
  },
  {
   "cell_type": "markdown",
   "metadata": {},
   "source": [
    "#### (b)\n",
    "The picture is :"
   ]
  },
  {
   "cell_type": "code",
   "execution_count": 22,
   "metadata": {},
   "outputs": [
    {
     "name": "stdout",
     "output_type": "stream",
     "text": [
      "norm  1.000000 is sucessfully calculated\n",
      "norm  2.000000 is sucessfully calculated\n",
      "norm  8.000000 is sucessfully calculated\n",
      "norm  inf is sucessfully calculated\n"
     ]
    },
    {
     "data": {
      "image/png": "[encoded data removed]",
      "text/plain": [
       "<matplotlib.figure.Figure at 0x11e486e48>"
      ]
     },
     "metadata": {},
     "output_type": "display_data"
    }
   ],
   "source": [
    "# Hint: please don't run this cell again, cost very long time\n",
    "import matplotlib.pyplot as plt\n",
    "x_line = np.linspace(-1, 1, 1000)\n",
    "y_line = np.linspace(-1, 1, 1000)\n",
    "xv, yv = np.meshgrid(x_line, y_line, sparse=False, indexing='ij')\n",
    "colors = ['b', 'g', 'r', 'o']\n",
    "for o,c in zip([1, 2, 8, np.inf], colors):\n",
    "    points = []\n",
    "    for i in range(xv.shape[0]):\n",
    "        for j in range(yv.shape[0]):\n",
    "            norm = np.linalg.norm([x_line[i], y_line[j]], ord = o)\n",
    "            if norm > 0.99 and norm < 1.01:\n",
    "                points.append([x_line[i], y_line[j]])\n",
    "\n",
    "    points = np.array(points)\n",
    "    print(\"norm  %f is sucessfully calculated\" %o)\n",
    "    plt.scatter(points[:,0], points[:,1], s = 0.05, label = 'order:%1.f' %o)\n",
    "\n",
    "plt.axis('equal')\n",
    "plt.legend()\n",
    "plt.show()"
   ]
  },
  {
   "cell_type": "markdown",
   "metadata": {},
   "source": [
    "## Question 5\n",
    "#### (a)\n",
    "The key concept is for a rotation matrix which is orthonormal, when it multiple with another, it will preserve the length of each column vector in that matrix and the angles between each vector."
   ]
  },
  {
   "cell_type": "code",
   "execution_count": 23,
   "metadata": {},
   "outputs": [
    {
     "name": "stdout",
     "output_type": "stream",
     "text": [
      "The determinant of A is: \n",
      "8.000000000000002\n",
      "The Trace of A is:\n",
      "6.0\n",
      "The eigenvalues of A are:\n",
      "[4. 2.]\n"
     ]
    }
   ],
   "source": [
    "A = 0.5 * np.array([[7, np.sqrt(3)], [np.sqrt(3), 5]])\n",
    "print(\"The determinant of A is: \")\n",
    "print(np.linalg.det(A))\n",
    "print(\"The Trace of A is:\")\n",
    "print(np.trace(A))\n",
    "print(\"The eigenvalues of A are:\")\n",
    "eig_val, eig_vec = np.linalg.eig(A)\n",
    "print(eig_val)"
   ]
  },
  {
   "cell_type": "markdown",
   "metadata": {},
   "source": [
    "#### (b)"
   ]
  },
  {
   "cell_type": "code",
   "execution_count": 24,
   "metadata": {},
   "outputs": [
    {
     "name": "stdout",
     "output_type": "stream",
     "text": [
      "After rotation, A prime is:\n",
      "[[3. 1.]\n",
      " [1. 3.]]\n",
      "The determinant of A prime is:\n",
      "8.000000000000002\n",
      "The trace of A prime is:\n",
      "6.0\n"
     ]
    }
   ],
   "source": [
    "alpha = np.pi/12\n",
    "Q = np.array([[np.cos(alpha), -np.sin(alpha)], [np.sin(alpha), np.cos(alpha)]])\n",
    "A_prime = Q @ A @ Q.T\n",
    "print(\"After rotation, A prime is:\")\n",
    "print(A_prime)\n",
    "print(\"The determinant of A prime is:\")\n",
    "print(np.linalg.det(A_prime))\n",
    "print(\"The trace of A prime is:\")\n",
    "print(np.trace(A_prime))"
   ]
  },
  {
   "cell_type": "markdown",
   "metadata": {},
   "source": [
    "#### (c)"
   ]
  },
  {
   "cell_type": "code",
   "execution_count": 25,
   "metadata": {},
   "outputs": [
    {
     "name": "stdout",
     "output_type": "stream",
     "text": [
      "After rotation, A prime is:\n",
      "[[2. 0.]\n",
      " [0. 4.]]\n",
      "The determinant of A prime is:\n",
      "7.999999999999998\n",
      "The trace of A prime is:\n",
      "6.0\n"
     ]
    }
   ],
   "source": [
    "alpha = np.pi/3\n",
    "Q = np.array([[np.cos(alpha), -np.sin(alpha)], [np.sin(alpha), np.cos(alpha)]])\n",
    "A_prime = np.around(Q @ A @ Q.T, 3) # use np.around to get rid of float point\n",
    "print(\"After rotation, A prime is:\")\n",
    "print(A_prime)\n",
    "print(\"The determinant of A prime is:\")\n",
    "print(np.linalg.det(A_prime))\n",
    "print(\"The trace of A prime is:\")\n",
    "print(np.trace(A_prime))"
   ]
  },
  {
   "cell_type": "markdown",
   "metadata": {},
   "source": [
    "So rotation matrix or formally SO(n) orthogonal group will preserve the determinant and the trace"
   ]
  },
  {
   "cell_type": "markdown",
   "metadata": {},
   "source": [
    "## Feedback\n",
    "Due to the previous study of math, actually thinking on this assignment doesn't cost too much time. I spent most of time on typing... overall 1 hour."
   ]
  },
  {
   "cell_type": "code",
   "execution_count": null,
   "metadata": {
    "collapsed": true
   },
   "outputs": [],
   "source": []
  }
 ],
 "metadata": {
  "kernelspec": {
   "display_name": "Python 3",
   "language": "python",
   "name": "python3"
  },
  "language_info": {
   "codemirror_mode": {
    "name": "ipython",
    "version": 3
   },
   "file_extension": ".py",
   "mimetype": "text/x-python",
   "name": "python",
   "nbconvert_exporter": "python",
   "pygments_lexer": "ipython3",
   "version": "3.6.6"
  }
 },
 "nbformat": 4,
 "nbformat_minor": 2
}
